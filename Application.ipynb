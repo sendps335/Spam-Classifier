{
  "nbformat": 4,
  "nbformat_minor": 0,
  "metadata": {
    "colab": {
      "name": "Application.ipynb",
      "provenance": []
    },
    "kernelspec": {
      "name": "python3",
      "display_name": "Python 3"
    }
  },
  "cells": [
    {
      "cell_type": "code",
      "metadata": {
        "id": "etWcjZa71o-m",
        "colab_type": "code",
        "colab": {
          "base_uri": "https://localhost:8080/",
          "height": 204
        },
        "outputId": "678012a4-c4d6-4cba-c898-f2f8671d260e"
      },
      "source": [
        "%run Spam_Classifier.ipynb"
      ],
      "execution_count": 4,
      "outputs": [
        {
          "output_type": "stream",
          "text": [
            "<class 'pandas.core.frame.DataFrame'>\n",
            "RangeIndex: 5567 entries, 0 to 5566\n",
            "Data columns (total 2 columns):\n",
            " #   Column         Non-Null Count  Dtype \n",
            "---  ------         --------------  ----- \n",
            " 0   Category       5567 non-null   object\n",
            " 1   Email Content  5567 non-null   object\n",
            "dtypes: object(2)\n",
            "memory usage: 87.1+ KB\n",
            "The Accuracy on Training Set is 99.45043331219615\n",
            "The Accuracy on Test Set is 98.32535885167464\n"
          ],
          "name": "stdout"
        }
      ]
    }
  ]
}